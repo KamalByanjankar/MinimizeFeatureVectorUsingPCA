{
 "cells": [
  {
   "cell_type": "code",
   "execution_count": 1,
   "metadata": {},
   "outputs": [],
   "source": [
    "import numpy as np\n",
    "import pandas as pd\n",
    "import xlrd\n",
    "\n",
    "import matplotlib.pyplot as plt\n",
    "from numpy.fft import fft, fftfreq\n",
    "\n",
    "def fft_from_data_frame(data_frame):\n",
    "    fs= 114e3\n",
    "    signal_set = []\n",
    "    for row in data_frame.values:\n",
    "        fft_data = fft(row, n=row.size)/row.size\n",
    "        freq = fftfreq(row.size, d=1/fs)\n",
    "        cut_high_signal = abs(fft_data).copy()\n",
    "        cut_high_signal[(freq > 50000)] = 0\n",
    "        cut_high_signal[(freq < 30000)] = 0\n",
    "        signal_without_0 = list(filter(lambda a: a != 0, cut_high_signal))\n",
    "        signal_set.append(np.abs(signal_without_0))\n",
    "    return signal_set\n",
    "\n",
    "import glob\n",
    "\n",
    "def get_fft_set(file_names):\n",
    "    fft_set = []\n",
    "    for files in file_names:\n",
    "        data = pd.read_csv(files)\n",
    "        fft_data = fft_from_data_frame(data)\n",
    "        fft_set = fft_data + fft_set\n",
    "    return fft_set\n",
    "\n",
    "car_front_1 = glob.glob('./Documents/data_set/Result_without_filter/Car/67_Ford_Black_front/*_overall.csv')\n",
    "car_front_2 = glob.glob('./Documents/data_set/Result_without_filter/Car/99_Fiesta_Purple_front/*_overall.csv')\n",
    "car_side_1 = glob.glob('./Documents/data_set/Result_without_filter/Car/99_Fiesta_Purple_side/*_overall.csv')\n",
    "car_side_2 = glob.glob('./Documents/data_set/Result_without_filter/Car/129_Skoda_Grey_side/*_overall.csv')\n",
    "car_back_1 = glob.glob('./Documents/data_set/Result_without_filter/Car/26_Ford_Black_back/*_overall.csv')\n",
    "car_back_2 = glob.glob('./Documents/data_set/Result_without_filter/Car/66_Ford_Purple_back/*_overall.csv')\n",
    "\n",
    "motorbike_1 = glob.glob('./Documents/data_set/Result_without_filter/Motorbike/92_CBF_Honda_side1/*_overall.csv')\n",
    "motorbike_2 = glob.glob('./Documents/data_set/Result_without_filter/Motorbike/92_CBF_Honda_side2/*_overall.csv')\n",
    "\n",
    "cycle_1 = glob.glob('./Documents/data_set/Result_without_filter/Cycle/Cycle_1/*_overall.csv')\n",
    "\n",
    "human_A = glob.glob('./Documents/data_set/Result_without_filter/Human/Human_A/*_overall.csv')\n",
    "human_B = glob.glob('./Documents/data_set/Result_without_filter/Human/Human_B/*_overall.csv')\n",
    "human_C = glob.glob('./Documents/data_set/Result_without_filter/Human/Human_C/*_overall.csv')\n",
    "human_D = glob.glob('./Documents/data_set/Result_without_filter/Human/Human_D/*_overall.csv')\n",
    "human_E = glob.glob('./Documents/data_set/Result_without_filter/Human/Human_E/*_overall.csv')\n",
    "human_F = glob.glob('./Documents/data_set/Result_without_filter/Human/Human_F/*_overall.csv')\n",
    "human_G = glob.glob('./Documents/data_set/Result_without_filter/Human/Human_G/*_overall.csv')\n",
    "human_H = glob.glob('./Documents/data_set/Result_without_filter/Human/Human_H/*_overall.csv')\n",
    "human_I = glob.glob('./Documents/data_set/Result_without_filter/Human/Human_I/*_overall.csv')\n",
    "\n",
    "pillar_1 = glob.glob('./Documents/data_set/Result_without_filter/Pillar/Pillar_1/*_overall.csv')\n",
    "pillar_2 = glob.glob('./Documents/data_set/Result_without_filter/Pillar/Pillar_2/*_overall.csv')\n",
    "pillar_3 = glob.glob('./Documents/data_set/Result_without_filter/Pillar/Pillar_3/*_overall.csv')\n",
    "\n",
    "stopper_1 = glob.glob('./Documents/data_set/Result_without_filter/Stopper/Stopper_1/*_overall.csv')\n",
    "stopper_2 = glob.glob('./Documents/data_set/Result_without_filter/Stopper/Stopper_2/*_overall.csv')\n",
    "\n",
    "wall_1 = glob.glob('./Documents/data_set/Result_without_filter/Wall/Wall_1/*_overall.csv')\n",
    "wall_2 = glob.glob('./Documents/data_set/Result_without_filter/Wall/Wall_2/*_overall.csv')\n",
    "wall_3 = glob.glob('./Documents/data_set/Result_without_filter/Wall/Wall_3/*_overall.csv')\n",
    "\n",
    "car_front_1_fft = get_fft_set(car_front_1)\n",
    "car_front_2_fft = get_fft_set(car_front_2)\n",
    "car_side_1_fft = get_fft_set(car_side_1)\n",
    "car_side_2_fft = get_fft_set(car_side_2)\n",
    "car_back_1_fft = get_fft_set(car_back_1)\n",
    "car_back_2_fft = get_fft_set(car_back_2)\n",
    "\n",
    "motorbike_1_fft = get_fft_set(motorbike_1)\n",
    "motorbike_2_fft = get_fft_set(motorbike_2)\n",
    "\n",
    "cycle_1_fft = get_fft_set(cycle_1)\n",
    "\n",
    "human_A_fft = get_fft_set(human_A)\n",
    "human_B_fft = get_fft_set(human_B)\n",
    "human_C_fft = get_fft_set(human_C)\n",
    "human_D_fft = get_fft_set(human_D)\n",
    "human_E_fft = get_fft_set(human_E)\n",
    "human_F_fft = get_fft_set(human_F)\n",
    "human_G_fft = get_fft_set(human_G)\n",
    "human_H_fft = get_fft_set(human_H)\n",
    "human_I_fft = get_fft_set(human_I)\n",
    "\n",
    "pillar_1_fft = get_fft_set(pillar_1)\n",
    "pillar_2_fft = get_fft_set(pillar_2)\n",
    "pillar_3_fft = get_fft_set(pillar_3)\n",
    "\n",
    "stopper_1_fft = get_fft_set(stopper_1)\n",
    "stopper_2_fft = get_fft_set(stopper_2)\n",
    "\n",
    "wall_1_fft = get_fft_set(wall_1)\n",
    "wall_2_fft = get_fft_set(wall_2)\n",
    "wall_3_fft = get_fft_set(wall_3)"
   ]
  },
  {
   "cell_type": "code",
   "execution_count": 2,
   "metadata": {},
   "outputs": [
    {
     "name": "stdout",
     "output_type": "stream",
     "text": [
      "Car:  11234\n",
      "Motorbike:  2122\n",
      "Cycle:  294\n",
      "Human:  5124\n",
      "Pillar:  9362\n",
      "Concrete:  2372\n",
      "Wall:  5034\n",
      "Total data: 35542\n"
     ]
    }
   ],
   "source": [
    "car = car_front_1_fft + car_front_2_fft + car_side_1_fft + car_side_2_fft + car_back_1_fft + car_back_2_fft\n",
    "motorbike = motorbike_1_fft + motorbike_2_fft\n",
    "cycle = cycle_1_fft\n",
    "human = human_A_fft + human_B_fft + human_C_fft + human_D_fft + human_E_fft + human_F_fft + human_G_fft + human_H_fft + human_I_fft\n",
    "pillar = pillar_1_fft + pillar_2_fft + pillar_3_fft\n",
    "concrete = stopper_1_fft + stopper_2_fft\n",
    "wall = wall_1_fft + wall_2_fft + wall_3_fft\n",
    " \n",
    "print(\"Car: \",len(car))\n",
    "print(\"Motorbike: \",len(motorbike))\n",
    "print(\"Cycle: \",len(cycle))\n",
    "print(\"Human: \",len(human))\n",
    "print(\"Pillar: \",len(pillar))\n",
    "print(\"Concrete: \",len(concrete))\n",
    "print(\"Wall: \",len(wall))\n",
    "result = len(car) + len(motorbike) + len(cycle) + len(human) + len(pillar) + len(concrete) + len(wall)\n",
    "print(\"Total data:\", result)"
   ]
  },
  {
   "cell_type": "code",
   "execution_count": 3,
   "metadata": {},
   "outputs": [],
   "source": [
    "Non_Human = car + motorbike + cycle + pillar + concrete + wall"
   ]
  },
  {
   "cell_type": "code",
   "execution_count": 4,
   "metadata": {},
   "outputs": [],
   "source": [
    "from sklearn.model_selection import train_test_split\n",
    "def split(X_, index):\n",
    "    y_ = [index]*len(X_)\n",
    "    return train_test_split(X_, y_, test_size=0.40, random_state=42)"
   ]
  },
  {
   "cell_type": "code",
   "execution_count": 5,
   "metadata": {},
   "outputs": [
    {
     "name": "stdout",
     "output_type": "stream",
     "text": [
      "(5124, 14)\n",
      "(30418, 14)\n"
     ]
    }
   ],
   "source": [
    "from sklearn.decomposition import PCA\n",
    "pca = PCA(n_components = 14, whiten='True')\n",
    "human_after_pca = pca.fit(human).transform(human)\n",
    "non_human_after_pca = pca.fit(Non_Human).transform(Non_Human)\n",
    "print(human_after_pca.shape)\n",
    "print(non_human_after_pca.shape)\n",
    "# print(data_after_pca.shape)"
   ]
  },
  {
   "cell_type": "code",
   "execution_count": 6,
   "metadata": {},
   "outputs": [],
   "source": [
    "X_Human_train, X_Human_test, y_Human_train, y_Human_test = split(human_after_pca, 'HUMAN')\n",
    "X_Non_Human_train, X_Non_Human_test, y_Non_Human_train, y_Non_Human_test = split(non_human_after_pca, 'NOT HUMAN')\n",
    "\n",
    "X_Human_Non_Human_train = np.concatenate((X_Human_train, X_Non_Human_train), axis=0)\n",
    "X_Human_Non_Human_test = np.concatenate((X_Human_test, X_Non_Human_test), axis=0)\n",
    "y_Human_Non_Human_train = np.concatenate((y_Human_train, y_Non_Human_train), axis=0)\n",
    "y_Human_Non_Human_test = np.concatenate((y_Human_test, y_Non_Human_test), axis=0)\n",
    "\n",
    "# print(np.array(X_Human_train).shape,np.array(X_Human_test).shape, np.array(y_Human_train).shape, np.array(y_Human_test).shape)\n",
    "# print(np.array(X_Non_Human_train).shape, np.array(X_Non_Human_test).shape, np.array(y_Non_Human_train).shape, np.array(y_Non_Human_test).shape)"
   ]
  },
  {
   "cell_type": "code",
   "execution_count": 7,
   "metadata": {},
   "outputs": [
    {
     "name": "stdout",
     "output_type": "stream",
     "text": [
      "X train data :  (21324, 14)\n",
      "y train data :  (21324,)\n",
      "X test data :  (14218, 14)\n",
      "y test data :  (14218,)\n"
     ]
    }
   ],
   "source": [
    "from sklearn import preprocessing\n",
    "normalized_X_Human_Non_Human_train = preprocessing.normalize(X_Human_Non_Human_train)\n",
    "# normalized_X_Human_Non_Human_train = preprocessing.scale(normalized_X_Human_Non_Human_train)\n",
    "\n",
    "normalized_X_Human_Non_Human_test = preprocessing.normalize(X_Human_Non_Human_test)\n",
    "# normalized_X_Human_Non_Human_test = preprocessing.scale(normalized_X_Human_Non_Human_test)\n",
    "\n",
    "print('X train data : ',np.array(X_Human_Non_Human_train).shape)\n",
    "print('y train data : ',np.array(y_Human_Non_Human_train).shape)\n",
    "print('X test data : ',np.array(X_Human_Non_Human_test).shape)\n",
    "print('y test data : ',np.array(y_Human_Non_Human_test).shape)"
   ]
  },
  {
   "cell_type": "code",
   "execution_count": 13,
   "metadata": {},
   "outputs": [],
   "source": [
    "from sklearn.metrics import confusion_matrix\n",
    "from sklearn.metrics import accuracy_score, confusion_matrix\n",
    "\n",
    "def create_confusion_matrix(y_test, result):\n",
    "    cm = confusion_matrix(y_test, result)\n",
    "    import seaborn as sns\n",
    "    import matplotlib.pyplot as plt     \n",
    "    sum = np.sum(cm, axis=1)\n",
    "    score = accuracy_score(y_test, result)\n",
    "\n",
    "    from sklearn.metrics import precision_score, recall_score, f1_score\n",
    "    precision_CLASS_A = round(precision_score(y_test, result, average='binary',pos_label=labels[0]),2)\n",
    "    precision_CLASS_B = round(precision_score(y_test, result, average='binary',pos_label=labels[1]),2)\n",
    "    recall_CLASS_A = round(recall_score(y_test, result, average='binary',pos_label=labels[0]),2)\n",
    "    recall_CLASS_B = round(recall_score(y_test, result, average='binary',pos_label=labels[1]),2)\n",
    "    f1_CLASS_A = round(f1_score(y_test, result, average='binary',pos_label=labels[0]),2)\n",
    "    f1_CLASS_B = round(f1_score(y_test, result, average='binary',pos_label=labels[1]),2)\n",
    "    f1_average = round((f1_CLASS_A + f1_CLASS_B)/2, 2);\n",
    "#     print('Precision: Class A',precision_CLASS_A)\n",
    "#     print('Precision: Class B',precision_CLASS_B)\n",
    "#     print('Recall: Class A',recall_CLASS_A)\n",
    "#     print('Recall: Class B',recall_CLASS_B)\n",
    "#     print('F1-Score: Class A',f1_CLASS_A)\n",
    "#     print('F1-Score: Class B',f1_CLASS_B)\n",
    "#     print('Average F1-score:', f1_average)\n",
    "\n",
    "    cm_new = np.append(cm[0], recall_CLASS_A)\n",
    "    cm_new2 = np.append(cm[1], recall_CLASS_B)\n",
    "    cm_new3 = np.array([precision_CLASS_A, precision_CLASS_B, score])\n",
    "    cm = np.array([cm_new,cm_new2,cm_new3])\n",
    "\n",
    "\n",
    "    fig, ax = plt.subplots(figsize=(10,10))\n",
    "    sns.heatmap(cm, annot=True, ax = ax,linewidths=.5,fmt='g',cmap=\"Reds\"); #annot=True to annotate cells\n",
    "\n",
    "    # labels, title and ticks\n",
    "    ax.set_xlabel('Predicted labels');\n",
    "    ax.set_ylabel('True labels'); \n",
    "    ax.set_title(title); \n",
    "    counter = 0\n",
    "    for i in range(0,2):\n",
    "        for j in range(0,3):\n",
    "            percentage = cm[i][j]/sum[i]\n",
    "            t = ax.texts[counter]\n",
    "            if j == 2:\n",
    "                t.set_text(str(cm[i][j]))\n",
    "            else:\n",
    "                t.set_text(str(cm[i][j]) + '\\n' + str(round(percentage*100,2)) + \" %\")\n",
    "            counter = counter + 1\n",
    "\n",
    "    ax.xaxis.set_ticklabels(labels)\n",
    "    ax.yaxis.set_ticklabels(labels);"
   ]
  },
  {
   "cell_type": "code",
   "execution_count": 16,
   "metadata": {},
   "outputs": [
    {
     "name": "stdout",
     "output_type": "stream",
     "text": [
      "[[  846  1204]\n",
      " [   11 12157]]\n",
      "Accuracy:  0.914544943029962\n"
     ]
    },
    {
     "data": {
      "image/png": "[encoded data removed]",
      "text/plain": [
       "<Figure size 720x720 with 2 Axes>"
      ]
     },
     "metadata": {
      "needs_background": "light"
     },
     "output_type": "display_data"
    }
   ],
   "source": [
    "from sklearn.ensemble import RandomForestClassifier\n",
    "\n",
    "clf = RandomForestClassifier(n_estimators=100)\n",
    "clf.fit(normalized_X_Human_Non_Human_train, y_Human_Non_Human_train)\n",
    "result = clf.predict(normalized_X_Human_Non_Human_test)\n",
    "\n",
    "cm = confusion_matrix(y_Human_Non_Human_test, result)\n",
    "print(cm)\n",
    "print(\"Accuracy: \",accuracy_score(y_Human_Non_Human_test, result))\n",
    "labels = ['HUMAN', 'NOT HUMAN']\n",
    "title = ('Random Forest Confusion Matrix')\n",
    "create_confusion_matrix(y_Human_Non_Human_test, result)"
   ]
  },
  {
   "cell_type": "code",
   "execution_count": 17,
   "metadata": {},
   "outputs": [
    {
     "name": "stdout",
     "output_type": "stream",
     "text": [
      "[[ 1376   674]\n",
      " [   39 12129]]\n",
      "0.9498522999015333\n"
     ]
    },
    {
     "data": {
      "image/png": "[encoded data removed]",
      "text/plain": [
       "<Figure size 720x720 with 2 Axes>"
      ]
     },
     "metadata": {
      "needs_background": "light"
     },
     "output_type": "display_data"
    }
   ],
   "source": [
    "from sklearn.neighbors import KNeighborsClassifier\n",
    "\n",
    "clf = KNeighborsClassifier(n_neighbors=5)\n",
    "clf.fit(normalized_X_Human_Non_Human_train, y_Human_Non_Human_train)\n",
    "result = clf.predict(normalized_X_Human_Non_Human_test)\n",
    "\n",
    "\n",
    "# print('\\nThe number of neighbors used to predict the target : ',clf.n_neighbors)\n",
    "\n",
    "cm = confusion_matrix(y_Human_Non_Human_test, result)\n",
    "print(cm)\n",
    "print(accuracy_score(y_Human_Non_Human_test, result))\n",
    "labels = ['HUMAN', 'NOT HUMAN']\n",
    "title = ('KNN Confusion Matrix')\n",
    "create_confusion_matrix(y_Human_Non_Human_test, result)"
   ]
  },
  {
   "cell_type": "code",
   "execution_count": null,
   "metadata": {},
   "outputs": [],
   "source": []
  }
 ],
 "metadata": {
  "kernelspec": {
   "display_name": "Python 3",
   "language": "python",
   "name": "python3"
  },
  "language_info": {
   "codemirror_mode": {
    "name": "ipython",
    "version": 3
   },
   "file_extension": ".py",
   "mimetype": "text/x-python",
   "name": "python",
   "nbconvert_exporter": "python",
   "pygments_lexer": "ipython3",
   "version": "3.7.3"
  }
 },
 "nbformat": 4,
 "nbformat_minor": 2
}
