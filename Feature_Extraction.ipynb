{
 "cells": [
  {
   "cell_type": "code",
   "execution_count": 1,
   "metadata": {},
   "outputs": [],
   "source": [
    "import numpy as np\n",
    "import pandas as pd\n",
    "import xlrd\n",
    "\n",
    "import matplotlib.pyplot as plt\n",
    "from numpy.fft import fft, fftfreq, ifft, rfft\n",
    "\n",
    "def fft_from_data_frame(data_frame):\n",
    "    fs= 114e3\n",
    "    signal_set = []\n",
    "    for row in data_frame.values:\n",
    "        fft_data = fft(row, n=row.size)/row.size\n",
    "        freq = fftfreq(row.size, d=1/fs)\n",
    "        cut_high_signal = np.abs(fft_data).copy()\n",
    "        cut_high_signal[(freq > 50000)] = 0\n",
    "        cut_high_signal[(freq < 30000)] = 0\n",
    "        signal_without_0 = list(filter(lambda a: a != 0, cut_high_signal))\n",
    "        signal_set.append(np.abs(signal_without_0))\n",
    "    return signal_set\n"
   ]
  },
  {
   "cell_type": "code",
   "execution_count": 28,
   "metadata": {},
   "outputs": [],
   "source": [
    "import glob\n",
    "\n",
    "def get_fft_set(file_names):\n",
    "    fft_set = []\n",
    "    for front in file_names:\n",
    "        data = pd.read_csv(front)\n",
    "        fft_set = fft_data + fft_set\n",
    "    return fft_set\n",
    "\n",
    "\n",
    "def get_dataframe_row(file_name, row_extra_information=['Motorbike', 'None', 80]):\n",
    "    data = pd.read_csv(file_name)\n",
    "    fft_data = fft_from_data_frame(data)\n",
    "    data_with_label = []\n",
    "    for object in fft_data:\n",
    "        object = object.tolist()\n",
    "        object = row_extra_information + object\n",
    "        data_with_label.append(object)\n",
    "    return data_with_label\n",
    "    \n",
    "data_frame_row_set = None\n",
    "type = ['Object', 'Object Property', 'Distance']\n",
    "for i in range(1,91):\n",
    "    type.append(f'features_{i}')\n",
    "# file_name = f'./Documents/data_set/Result/26_Ford_Black_back/{i}_overall.csv'\n",
    "for i in range(80,260,10):\n",
    "    file_name = f'./Documents/data_set/Result_without_filter/Pillar_1/{i}_overall.csv'\n",
    "    data_frame_row = get_dataframe_row(file_name, ['Pillar', 'Concrete', i])\n",
    "    if data_frame_row_set is not None:\n",
    "        data_frame_row_set = data_frame_row_set + data_frame_row\n",
    "    else:\n",
    "        data_frame_row_set = data_frame_row\n",
    "dataframe = pd.DataFrame(data_frame_row_set, columns=type)\n",
    "dataframe.to_excel('./Documents/data_set/Result_without_filter/Pillar_1/Pillar_1_feature_set.xls')\n",
    "dataframe.to_csv('./Documents/data_set/Result_without_filter/Pillar_1/Pillar_1_feature_set.csv')"
   ]
  },
  {
   "cell_type": "code",
   "execution_count": 2,
   "metadata": {},
   "outputs": [],
   "source": [
    "# dataframe"
   ]
  },
  {
   "cell_type": "code",
   "execution_count": 50,
   "metadata": {},
   "outputs": [],
   "source": [
    "data_with_label = []\n",
    "type = ['Object', 'Object Property', 'Distance']\n",
    "for i in range(1,91):\n",
    "    type.append(f'features_{i}')\n",
    "for object in motorbike_1_fft:\n",
    "    object = object.tolist()\n",
    "    object.insert(0,'motorbike')\n",
    "    object.insert(1,'None')\n",
    "    object.insert(2,'80')\n",
    "    data_with_label.append(object)\n",
    "dataframe = pd.DataFrame(data_with_label, columns=type)"
   ]
  },
  {
   "cell_type": "code",
   "execution_count": 1,
   "metadata": {},
   "outputs": [],
   "source": [
    "# dataframe"
   ]
  },
  {
   "cell_type": "code",
   "execution_count": 9,
   "metadata": {},
   "outputs": [],
   "source": [
    "#merge csv files in one file\n",
    "\n",
    "import glob\n",
    "import pandas as pd\n",
    "import numpy as np\n",
    "files = glob.glob('./Documents/data_set/Result_without_filter/Features/*.csv')"
   ]
  },
  {
   "cell_type": "code",
   "execution_count": 6,
   "metadata": {},
   "outputs": [
    {
     "data": {
      "text/plain": [
       "['./Documents/data_set/Result_without_filter/Features\\\\129_Skoda_Grey_side_feature_set.csv',\n",
       " './Documents/data_set/Result_without_filter/Features\\\\26_Ford_Black_back_feature_set.csv',\n",
       " './Documents/data_set/Result_without_filter/Features\\\\66_Ford_Purple_back_feature_set.csv',\n",
       " './Documents/data_set/Result_without_filter/Features\\\\67_Ford_Black_front_feature_set.csv',\n",
       " './Documents/data_set/Result_without_filter/Features\\\\92_CBF_Honda_side1_feature_set.csv',\n",
       " './Documents/data_set/Result_without_filter/Features\\\\92_CBF_Honda_side2_feature_set.csv',\n",
       " './Documents/data_set/Result_without_filter/Features\\\\99_Fiesta_Purple_front_feature_set.csv',\n",
       " './Documents/data_set/Result_without_filter/Features\\\\99_Fiesta_Purple_side_feature_set.csv',\n",
       " './Documents/data_set/Result_without_filter/Features\\\\Cycle_1_feature_set.csv',\n",
       " './Documents/data_set/Result_without_filter/Features\\\\Human_A_feature_set.csv',\n",
       " './Documents/data_set/Result_without_filter/Features\\\\Human_B_feature_set.csv',\n",
       " './Documents/data_set/Result_without_filter/Features\\\\Human_C_feature_set.csv',\n",
       " './Documents/data_set/Result_without_filter/Features\\\\Human_D_feature_set.csv',\n",
       " './Documents/data_set/Result_without_filter/Features\\\\Human_E_feature_set.csv',\n",
       " './Documents/data_set/Result_without_filter/Features\\\\Pillar_1_feature_set.csv',\n",
       " './Documents/data_set/Result_without_filter/Features\\\\Pillar_2_feature_set.csv',\n",
       " './Documents/data_set/Result_without_filter/Features\\\\Pillar_3_feature_set.csv',\n",
       " './Documents/data_set/Result_without_filter/Features\\\\Stopper_1_feature_set.csv',\n",
       " './Documents/data_set/Result_without_filter/Features\\\\Stopper_2_feature_set.csv',\n",
       " './Documents/data_set/Result_without_filter/Features\\\\Wall_1_feature_set.csv',\n",
       " './Documents/data_set/Result_without_filter/Features\\\\Wall_2_feature_set.csv',\n",
       " './Documents/data_set/Result_without_filter/Features\\\\Wall_3_feature_set.csv']"
      ]
     },
     "execution_count": 6,
     "metadata": {},
     "output_type": "execute_result"
    }
   ],
   "source": [
    "files"
   ]
  },
  {
   "cell_type": "code",
   "execution_count": 10,
   "metadata": {},
   "outputs": [],
   "source": [
    "data = pd.read_csv(files[0])\n",
    "header_value = np.delete(data.columns.values,0)"
   ]
  },
  {
   "cell_type": "code",
   "execution_count": 13,
   "metadata": {},
   "outputs": [],
   "source": [
    "data_frame_collection = None\n",
    "for f in files:\n",
    "    data_frame = pd.read_csv(f, header=None, skiprows=[0])\n",
    "    data_frame = data_frame.iloc[:,1:].values\n",
    "    if data_frame_collection is not None:\n",
    "        data_frame_collection = np.concatenate((data_frame_collection, data_frame))\n",
    "    else:\n",
    "        data_frame_collection = data_frame\n",
    "data_frame_features = pd.DataFrame(data_frame_collection, columns=header_value)\n",
    "data_frame_features.to_csv('./Documents/data_set/Result_without_filter/Features/Overall/overall.csv')\n",
    "data_frame_features.to_excel('./Documents/data_set/Result_without_filter/Features/Overall/overall.xls')"
   ]
  },
  {
   "cell_type": "code",
   "execution_count": 15,
   "metadata": {},
   "outputs": [],
   "source": [
    "# data_frame = pd.read_csv(files[0], header=None, skiprows=[0])\n",
    "# data_frame_2 = pd.read_csv(files[1], header=None, skiprows=[0])\n",
    "\n",
    "# data_frame = data_frame.iloc[:,1:].values\n",
    "# data_frame_2 = data_frame_2.iloc[:,1:].values"
   ]
  },
  {
   "cell_type": "code",
   "execution_count": 16,
   "metadata": {},
   "outputs": [
    {
     "data": {
      "text/plain": [
       "(4383, 93)"
      ]
     },
     "execution_count": 16,
     "metadata": {},
     "output_type": "execute_result"
    }
   ],
   "source": [
    "# np.concatenate((data_frame, data_frame_2)).shape"
   ]
  },
  {
   "cell_type": "code",
   "execution_count": 17,
   "metadata": {},
   "outputs": [
    {
     "data": {
      "text/plain": [
       "(1175, 93)"
      ]
     },
     "execution_count": 17,
     "metadata": {},
     "output_type": "execute_result"
    }
   ],
   "source": [
    "# data_frame.shape"
   ]
  },
  {
   "cell_type": "code",
   "execution_count": 18,
   "metadata": {},
   "outputs": [
    {
     "data": {
      "text/plain": [
       "(3208, 93)"
      ]
     },
     "execution_count": 18,
     "metadata": {},
     "output_type": "execute_result"
    }
   ],
   "source": [
    "# data_frame_2.shape"
   ]
  },
  {
   "cell_type": "code",
   "execution_count": null,
   "metadata": {},
   "outputs": [],
   "source": []
  }
 ],
 "metadata": {
  "kernelspec": {
   "display_name": "Python 3",
   "language": "python",
   "name": "python3"
  },
  "language_info": {
   "codemirror_mode": {
    "name": "ipython",
    "version": 3
   },
   "file_extension": ".py",
   "mimetype": "text/x-python",
   "name": "python",
   "nbconvert_exporter": "python",
   "pygments_lexer": "ipython3",
   "version": "3.7.3"
  }
 },
 "nbformat": 4,
 "nbformat_minor": 2
}
