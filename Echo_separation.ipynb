{
 "cells": [
  {
   "cell_type": "code",
   "execution_count": 9,
   "metadata": {},
   "outputs": [],
   "source": [
    "import pandas as pd\n",
    "import matplotlib.pyplot as plt \n",
    "import numpy as np\n",
    "\n",
    "from scipy.signal import butter, lfilter, freqz\n",
    "from scipy import signal\n",
    "data_after_applying_filter = []\n",
    "\n",
    "cutoff = 25e3 #in Hz\n",
    "fs = 114e3 \n",
    "order = 5\n",
    "NOISE_SIZE = 250\n",
    "ECHO_SIZE = 512\n",
    "THRESHOLD = 0.15\n",
    "\n",
    "def butter_lowpass(cutoff, fs, order):\n",
    "    nyq = 0.5 * fs\n",
    "    normal_cutoff = cutoff / nyq\n",
    "    b, a = butter(order, normal_cutoff, btype='low', analog=False)\n",
    "    return b, a\n",
    "\n",
    "def butter_lowpass_filter(data, cutoff, fs, order):\n",
    "    b, a = butter_lowpass(cutoff, fs, order=order)\n",
    "    #y = lfilter(b, a, data)\n",
    "    y = signal.filtfilt(b, a, data)\n",
    "    return y"
   ]
  },
  {
   "cell_type": "code",
   "execution_count": 33,
   "metadata": {},
   "outputs": [],
   "source": [
    "#Step 1 and 2\n",
    "def get_time_domain_without_offset(filename):\n",
    "    data_frame = pd.read_csv(filename, skiprows=[0], header= None)\n",
    "    required_data_frame = data_frame.iloc[:, 9:]\n",
    "    #print(data_frame)\n",
    "    #print(required_data)\n",
    "    required_data_without_offset = required_data_frame.sub(required_data_frame.mean(axis=1), axis=0).values\n",
    "    return required_data_without_offset\n",
    "\n",
    "#Step 3\n",
    "def use_low_pass_filter(data_values):\n",
    "    data_after_applying_filter = []\n",
    "    for i, data in enumerate(data_values):\n",
    "        y = butter_lowpass_filter(data, cutoff, fs, order)\n",
    "        result = data - y\n",
    "        data_after_applying_filter.append(result)\n",
    "    return data_after_applying_filter\n",
    "\n",
    "# Step 4:\n",
    "def peak_value(data):\n",
    "    max_point_distance = 0\n",
    "    peakData = 0\n",
    "    max_point_distance = np.array(data).argmax()\n",
    "    peakData = np.array(data).max()\n",
    "    if peakData > THRESHOLD:\n",
    "        return max_point_distance\n",
    "    else: \n",
    "        return None\n",
    "    \n",
    "def get_echos(filtered_values):\n",
    "    all_echo_range = [] \n",
    "    for index, data in enumerate(filtered_values):\n",
    "        chopped_data = data[NOISE_SIZE:]\n",
    "        max_point_distance = peak_value(chopped_data)\n",
    "        if max_point_distance:\n",
    "            cutting_distance = max_point_distance - 200\n",
    "            if cutting_distance > 0:\n",
    "                echo_range = chopped_data[cutting_distance:]\n",
    "                echo_range = echo_range[:ECHO_SIZE]\n",
    "                all_echo_range.append(echo_range)\n",
    "    return all_echo_range\n",
    "\n",
    "def save_to_csv(echo_set, folder, file):\n",
    "    data = pd.DataFrame(echo_set)\n",
    "#     data.drop([0], axis=0)\n",
    "    df = data.drop([17,19,20,21,22,23,36,28,29,31,32,43,44,45,46,47,48,49,50,51,53,55,56,57,58,59,\n",
    "61,62,63,64,65,66,67,68,69,70,71,72,73,74,75,76,77,78,79,80,81,82,86,87,88,90,91,93,96,97,98,99,100,104,105,107,108])\n",
    "    print(folder,file)\n",
    "    df.to_csv('./Documents/data_set/Result_without_filter/{}/{}_overall.csv'.format(folder, file), header=False, index=False)"
   ]
  },
  {
   "cell_type": "code",
   "execution_count": 34,
   "metadata": {},
   "outputs": [
    {
     "name": "stdout",
     "output_type": "stream",
     "text": [
      "./Documents/data_set/New_Data_Set/Human/Human_H/Human_110/1.csv\n",
      "Human_H 110\n"
     ]
    }
   ],
   "source": [
    "file_set=[1]\n",
    "distance_set = [110]\n",
    "\n",
    "main_folder_set = ['Human']\n",
    "folder_set = ['Human_H']\n",
    "sub_folder_set = ['Human']\n",
    "\n",
    "for i, folder_name in enumerate(main_folder_set):\n",
    "    main_folder_name = main_folder_set[i]\n",
    "    \n",
    "    for i, sub_folder_name in enumerate(folder_set):\n",
    "        file_name = sub_folder_set[i]\n",
    "    \n",
    "    for distance in distance_set:\n",
    "        echo_set = []\n",
    "        for file_number in file_set:\n",
    "            filename = './Documents/data_set/New_Data_Set/{}/{}/{}_{}/{}.csv'.format(main_folder_name, sub_folder_name,file_name, distance, file_number)\n",
    "            print(filename)\n",
    "            time_domain_data_without_offset = get_time_domain_without_offset(filename)\n",
    "#             filtered_values = use_low_pass_filter(time_domain_data_without_offset)\n",
    "            echos_data =  get_echos(time_domain_data_without_offset)\n",
    "            echo_set = echo_set + echos_data\n",
    "        save_to_csv(echo_set, sub_folder_name, distance)"
   ]
  },
  {
   "cell_type": "code",
   "execution_count": null,
   "metadata": {},
   "outputs": [],
   "source": []
  }
 ],
 "metadata": {
  "kernelspec": {
   "display_name": "Python 3",
   "language": "python",
   "name": "python3"
  },
  "language_info": {
   "codemirror_mode": {
    "name": "ipython",
    "version": 3
   },
   "file_extension": ".py",
   "mimetype": "text/x-python",
   "name": "python",
   "nbconvert_exporter": "python",
   "pygments_lexer": "ipython3",
   "version": "3.7.3"
  }
 },
 "nbformat": 4,
 "nbformat_minor": 2
}
